{
 "cells": [
  {
   "cell_type": "markdown",
   "metadata": {},
   "source": [
    "# Jacob Sheehan\n",
    "## Week6 9/26/2024\n",
    "### Python - While Loops"
   ]
  },
  {
   "cell_type": "markdown",
   "metadata": {},
   "source": [
    "**The general format of Python whille loops:**\n",
    "\n",
    "<code>while test:\n",
    "           statements </code>"
   ]
  },
  {
   "cell_type": "code",
   "execution_count": 1,
   "metadata": {},
   "outputs": [
    {
     "name": "stdout",
     "output_type": "stream",
     "text": [
      "1 Hello!\n",
      "2 Hello!\n",
      "3 Hello!\n",
      "4 Hello!\n",
      "5 Hello!\n",
      "6 Hello!\n",
      "7 Hello!\n",
      "8 Hello!\n",
      "9 Hello!\n",
      "10 Hello!\n"
     ]
    }
   ],
   "source": [
    "while count <= 10:\n",
    "    print(count, 'Hello!')\n",
    "    count+=1 # count = count + 1"
   ]
  },
  {
   "cell_type": "code",
   "execution_count": 2,
   "metadata": {},
   "outputs": [
    {
     "name": "stdout",
     "output_type": "stream",
     "text": [
      "1 Hello!\n",
      "2 Hello!\n",
      "3 Hello!\n",
      "4 Hello!\n",
      "5 Hello!\n",
      "6 Hello!\n",
      "7 Hello!\n",
      "8 Hello!\n",
      "9 Hello!\n",
      "10 Hello!\n",
      "The value of count after while loop is: 11\n"
     ]
    }
   ],
   "source": [
    "# else\n",
    "count = 1\n",
    "\n",
    "while count <= 10:\n",
    "    print(count, 'Hello!')\n",
    "    count+=1 # count = count + 1\n",
    "\n",
    "print(f'The value of count after while loop is: {count}')"
   ]
  },
  {
   "cell_type": "code",
   "execution_count": 3,
   "metadata": {},
   "outputs": [
    {
     "name": "stdout",
     "output_type": "stream",
     "text": [
      "1 Hello!\n",
      "2 Hello!\n",
      "3 Hello!\n",
      "4 Hello!\n",
      "5 Hello!\n",
      "6 Hello!\n",
      "7 Hello!\n",
      "8 Hello!\n",
      "9 Hello!\n",
      "10 Hello!\n",
      "The value of count after while loop is: 11\n"
     ]
    }
   ],
   "source": [
    "#else\n",
    "\n",
    "count = 1\n",
    "\n",
    "while count <= 10:\n",
    "    print(count, 'Hello!')\n",
    "    count+=1 # count = count + 1\n",
    "else:\n",
    "    print(f'The value of count after while loop is: {count}')"
   ]
  },
  {
   "cell_type": "code",
   "execution_count": 6,
   "metadata": {},
   "outputs": [
    {
     "name": "stdout",
     "output_type": "stream",
     "text": [
      "Now the sum of value: 0 and value of count: 1\n",
      "Now the sum of value: 1 and value of count: 2\n",
      "Now the sum of value: 3 and value of count: 3\n",
      "Now the sum of value: 6 and value of count: 4\n",
      "Now the sum of value: 10 and value of count: 5\n",
      "Now the sum of value: 15 and value of count: 6\n",
      "Now the sum of value: 21 and value of count: 7\n",
      "Now the sum of value: 28 and value of count: 8\n",
      "Now the sum of value: 36 and value of count: 9\n",
      "Now the sum of value: 45 and value of count: 10\n",
      "The sum of all values: 55\n"
     ]
    }
   ],
   "source": [
    "count = 1\n",
    "sum = 0\n",
    "while count <= 10:\n",
    "    print(f'Now the sum of value: {sum} and value of count: {count}')\n",
    "    sum+=count # sum = sum + count\n",
    "    count+=1\n",
    "else:\n",
    "    print(f'The sum of all values: {sum}')"
   ]
  },
  {
   "cell_type": "code",
   "execution_count": 7,
   "metadata": {},
   "outputs": [
    {
     "data": {
      "text/plain": [
       "[10, 15, 20, 25, 30, 35, 40, 45, 50]"
      ]
     },
     "execution_count": 7,
     "metadata": {},
     "output_type": "execute_result"
    }
   ],
   "source": [
    "# list\n",
    "lst = list(range(10,51,5))\n",
    "lst"
   ]
  },
  {
   "cell_type": "code",
   "execution_count": 8,
   "metadata": {},
   "outputs": [
    {
     "name": "stdout",
     "output_type": "stream",
     "text": [
      "10\n",
      "15\n",
      "20\n",
      "25\n",
      "30\n",
      "35\n",
      "40\n",
      "45\n",
      "50\n"
     ]
    }
   ],
   "source": [
    "idx = 0\n",
    "while idx < len(lst):\n",
    "    print(lst[idx])\n",
    "    idx+=1"
   ]
  },
  {
   "cell_type": "code",
   "execution_count": 12,
   "metadata": {},
   "outputs": [
    {
     "name": "stdout",
     "output_type": "stream",
     "text": [
      "red green blue purple "
     ]
    }
   ],
   "source": [
    "colors = ('red', 'green','blue','purple')\n",
    "i = 0\n",
    "while i < len(colors):\n",
    "    print(colors[i], end=' ')\n",
    "    i+=1"
   ]
  },
  {
   "cell_type": "code",
   "execution_count": 13,
   "metadata": {},
   "outputs": [
    {
     "ename": "SyntaxError",
     "evalue": "invalid syntax (<ipython-input-13-72e21cc9a404>, line 1)",
     "output_type": "error",
     "traceback": [
      "\u001b[1;36m  File \u001b[1;32m\"<ipython-input-13-72e21cc9a404>\"\u001b[1;36m, line \u001b[1;32m1\u001b[0m\n\u001b[1;33m    lst/\u001b[0m\n\u001b[1;37m        ^\u001b[0m\n\u001b[1;31mSyntaxError\u001b[0m\u001b[1;31m:\u001b[0m invalid syntax\n"
     ]
    }
   ],
   "source": [
    "lst/"
   ]
  },
  {
   "cell_type": "code",
   "execution_count": 14,
   "metadata": {},
   "outputs": [
    {
     "data": {
      "text/plain": [
       "[10, 15, 20, 25, 30, 35, 40, 45, 50]"
      ]
     },
     "execution_count": 14,
     "metadata": {},
     "output_type": "execute_result"
    }
   ],
   "source": [
    "lst"
   ]
  },
  {
   "cell_type": "code",
   "execution_count": 15,
   "metadata": {},
   "outputs": [
    {
     "name": "stdout",
     "output_type": "stream",
     "text": [
      "50\n",
      "45\n",
      "40\n",
      "35\n",
      "30\n",
      "25\n",
      "20\n",
      "15\n",
      "10\n"
     ]
    }
   ],
   "source": [
    "while lst:\n",
    "    print(lst.pop())"
   ]
  },
  {
   "cell_type": "code",
   "execution_count": 16,
   "metadata": {},
   "outputs": [
    {
     "data": {
      "text/plain": [
       "[]"
      ]
     },
     "execution_count": 16,
     "metadata": {},
     "output_type": "execute_result"
    }
   ],
   "source": [
    "lst"
   ]
  },
  {
   "cell_type": "code",
   "execution_count": 17,
   "metadata": {},
   "outputs": [
    {
     "name": "stdout",
     "output_type": "stream",
     "text": [
      "c i s 3 1 0 D a t a A n a l y t i c s "
     ]
    }
   ],
   "source": [
    "#string\n",
    "s = 'cis310DataAnalytics'\n",
    "i = 0\n",
    "while i < len(s):\n",
    "    print(s[i], end=' ')\n",
    "    i+=1"
   ]
  },
  {
   "cell_type": "code",
   "execution_count": 18,
   "metadata": {},
   "outputs": [
    {
     "name": "stdout",
     "output_type": "stream",
     "text": [
      "cis310Da"
     ]
    }
   ],
   "source": [
    "# break keyword\n",
    "# break when the letter is 'a' or 't'\n",
    "i = 0\n",
    "while i < len(s):\n",
    "    print(s[i],end='')\n",
    "    if s[i] == 'a' or s[i] == 't':\n",
    "        break\n",
    "    i+=1"
   ]
  },
  {
   "cell_type": "code",
   "execution_count": null,
   "metadata": {},
   "outputs": [],
   "source": []
  },
  {
   "cell_type": "code",
   "execution_count": 20,
   "metadata": {},
   "outputs": [
    {
     "name": "stdout",
     "output_type": "stream",
     "text": [
      "cis310DAnlyics"
     ]
    }
   ],
   "source": [
    "#continue keyword\n",
    "i = 0\n",
    "while i < len(s):\n",
    "    if s[i] == 'a' or s[i] == 't':\n",
    "        i+=1\n",
    "        continue\n",
    "    print(s[i],end='')\n",
    "    i+=1"
   ]
  },
  {
   "cell_type": "code",
   "execution_count": null,
   "metadata": {},
   "outputs": [],
   "source": []
  }
 ],
 "metadata": {
  "kernelspec": {
   "display_name": "Python 3.7 - default",
   "language": "python",
   "name": "py37_default"
  },
  "language_info": {
   "codemirror_mode": {
    "name": "ipython",
    "version": 3
   },
   "file_extension": ".py",
   "mimetype": "text/x-python",
   "name": "python",
   "nbconvert_exporter": "python",
   "pygments_lexer": "ipython3",
   "version": "3.7.7"
  }
 },
 "nbformat": 4,
 "nbformat_minor": 4
}

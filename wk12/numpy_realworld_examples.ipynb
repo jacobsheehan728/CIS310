{
 "cells": [
  {
   "cell_type": "markdown",
   "metadata": {},
   "source": [
    "# Jacob Sheehan\n",
    "## wk12 11/05/2024\n",
    "### Numpy Real World Examples"
   ]
  },
  {
   "cell_type": "code",
   "execution_count": 1,
   "metadata": {},
   "outputs": [
    {
     "data": {
      "text/plain": [
       "array([58.67236949, 35.20342518, 73.06316192, 17.36617515, 10.49917452,\n",
       "        4.80905139, 72.8273531 , 50.87188198, 72.55744791, 12.93180715,\n",
       "       13.18204988, 74.51565899, 67.08744262, 93.76763947, 12.91370387,\n",
       "       44.11838467, 62.62092195, 63.31784049, 49.34500598, 99.18075927,\n",
       "       14.62021423, 13.79428153, 32.202647  ,  4.18300149, 42.27879225,\n",
       "       30.07050506, 64.24396301, 77.4799287 , 50.34695652, 36.55948963,\n",
       "       36.97421043, 54.94316665, 63.70319245, 51.59724544, 61.29188023,\n",
       "       81.23561908, 75.92804418,  9.98411666, 96.65494903, 58.04615902,\n",
       "       63.83654868, 36.12671465,  4.69426221, 89.64487138, 69.53118961,\n",
       "       96.62339051, 29.47247878, 95.0741183 ,  8.29829882, 55.050689  ])"
      ]
     },
     "execution_count": 1,
     "metadata": {},
     "output_type": "execute_result"
    }
   ],
   "source": [
    "# Computing Grades\n",
    "import numpy as np\n",
    "from numpy.random import random\n",
    "\n",
    "scores = random(50) * 101\n",
    "scores"
   ]
  },
  {
   "cell_type": "code",
   "execution_count": 2,
   "metadata": {},
   "outputs": [],
   "source": [
    "# multiply random by 101 for scores between 1 and 100"
   ]
  },
  {
   "cell_type": "code",
   "execution_count": 3,
   "metadata": {},
   "outputs": [
    {
     "data": {
      "text/plain": [
       "array([ 95,  78,  39,  61,  10,  35,  60,  92,  84,  79,  13,  60,  48,\n",
       "        29,  26,  72,  41,  50,  90,  30,  24,  74,  77,  17,  96,  94,\n",
       "        47,  10,  71,  24,  60,   2,  67,  66,  50,  48,  57,  93, 100,\n",
       "        56,  95,  90,  48,  37,  89,  88,  74,  47,  94,  76])"
      ]
     },
     "execution_count": 3,
     "metadata": {},
     "output_type": "execute_result"
    }
   ],
   "source": [
    "scores = np.round(random(50) * 101).astype(int)\n",
    "scores"
   ]
  },
  {
   "cell_type": "code",
   "execution_count": 4,
   "metadata": {},
   "outputs": [
    {
     "data": {
      "text/plain": [
       "59.26"
      ]
     },
     "execution_count": 4,
     "metadata": {},
     "output_type": "execute_result"
    }
   ],
   "source": [
    "np.mean(scores)"
   ]
  },
  {
   "cell_type": "code",
   "execution_count": 5,
   "metadata": {},
   "outputs": [
    {
     "data": {
      "text/plain": [
       "2"
      ]
     },
     "execution_count": 5,
     "metadata": {},
     "output_type": "execute_result"
    }
   ],
   "source": [
    "scores.min()"
   ]
  },
  {
   "cell_type": "code",
   "execution_count": 6,
   "metadata": {},
   "outputs": [
    {
     "data": {
      "text/plain": [
       "100"
      ]
     },
     "execution_count": 6,
     "metadata": {},
     "output_type": "execute_result"
    }
   ],
   "source": [
    "scores.max()"
   ]
  },
  {
   "cell_type": "code",
   "execution_count": 7,
   "metadata": {},
   "outputs": [
    {
     "data": {
      "text/plain": [
       "27.092294107365657"
      ]
     },
     "execution_count": 7,
     "metadata": {},
     "output_type": "execute_result"
    }
   ],
   "source": [
    "np.std(scores)"
   ]
  },
  {
   "cell_type": "code",
   "execution_count": 8,
   "metadata": {},
   "outputs": [
    {
     "data": {
      "text/plain": [
       "array([ 95,  78,  92,  84,  79,  72,  90,  74,  77,  96,  94,  71,  93,\n",
       "       100,  95,  90,  89,  88,  74,  94,  76])"
      ]
     },
     "execution_count": 8,
     "metadata": {},
     "output_type": "execute_result"
    }
   ],
   "source": [
    "scores[scores > 70]"
   ]
  },
  {
   "cell_type": "code",
   "execution_count": 9,
   "metadata": {},
   "outputs": [
    {
     "data": {
      "text/plain": [
       "21"
      ]
     },
     "execution_count": 9,
     "metadata": {},
     "output_type": "execute_result"
    }
   ],
   "source": [
    "len(scores[scores > 70])"
   ]
  },
  {
   "cell_type": "code",
   "execution_count": 10,
   "metadata": {},
   "outputs": [
    {
     "data": {
      "text/plain": [
       "array([ 94,  95,  95,  96, 100])"
      ]
     },
     "execution_count": 10,
     "metadata": {},
     "output_type": "execute_result"
    }
   ],
   "source": [
    "# find n largest scores\n",
    "n = 5\n",
    "scores.sort()\n",
    "scores[-n::]"
   ]
  },
  {
   "cell_type": "code",
   "execution_count": 11,
   "metadata": {},
   "outputs": [
    {
     "name": "stdout",
     "output_type": "stream",
     "text": [
      "slope = 9.999999999999996, and intercept = 39.999999999999986\n"
     ]
    }
   ],
   "source": [
    "# Linear Regression\n",
    "# Y = a + bX\n",
    "X = np.array([1,2,3,4,5,6])\n",
    "Y = np.array([50, 60, 70, 80, 90, 100])\n",
    "\n",
    "\n",
    "slope, intercept = np.polyfit(X,Y,1)\n",
    "\n",
    "print(f'slope = {slope}, and intercept = {intercept}')\n"
   ]
  },
  {
   "cell_type": "code",
   "execution_count": 12,
   "metadata": {},
   "outputs": [
    {
     "name": "stdout",
     "output_type": "stream",
     "text": [
      "Year 1: $10500.00\n",
      "Year 2: $11025.00\n",
      "Year 3: $11576.25\n",
      "Year 4: $12155.06\n",
      "Year 5: $12762.82\n",
      "Year 6: $13400.96\n",
      "Year 7: $14071.00\n",
      "Year 8: $14774.55\n",
      "Year 9: $15513.28\n",
      "Year 10: $16288.95\n"
     ]
    }
   ],
   "source": [
    "# Financial Calculations\n",
    "# calculating the future value of an investment\n",
    "\n",
    "inital_investment = 10000\n",
    "\n",
    "annual_interest_rate = 0.05\n",
    "\n",
    "years = np.arange(1,11)\n",
    "\n",
    "future_value = inital_investment * (1 + annual_interest_rate) ** years\n",
    "for year, value in zip(years, future_value):\n",
    "    print(f'Year {year}: ${value:.2f}')"
   ]
  },
  {
   "cell_type": "code",
   "execution_count": 13,
   "metadata": {},
   "outputs": [
    {
     "name": "stdout",
     "output_type": "stream",
     "text": [
      "0.062000000000000006\n"
     ]
    }
   ],
   "source": [
    "# Portfolio Optimization\n",
    "\n",
    "returns = np.array([0.07, 0.05]) # expected returns for Asset A and B\n",
    "\n",
    "weights = np.array([0.6, 0.4]) # Weights of each asset in the portfolio\n",
    "\n",
    "portfolio_return = np.dot(returns, weights)\n",
    "\n",
    "print(portfolio_return)"
   ]
  },
  {
   "cell_type": "code",
   "execution_count": 14,
   "metadata": {},
   "outputs": [
    {
     "name": "stdout",
     "output_type": "stream",
     "text": [
      "[1 0 0 1 0 0 1 0 1 1 1 0 0 1 0]\n",
      "[1 1 0 1 0 0 1 0 0 1 0 1 1 1 1]\n"
     ]
    }
   ],
   "source": [
    "# Healthcare\n",
    "# the effectiveness of a treatment by comparing patient outcomes\n",
    "\n",
    "sample = [0,1] # 1 = success, 0 = failure\n",
    "\n",
    "group_1 = np.random.choice(sample, 15)\n",
    "print(group_1)\n",
    "\n",
    "group_2 = np.random.choice(sample, 15)\n",
    "print(group_2)"
   ]
  },
  {
   "cell_type": "code",
   "execution_count": 15,
   "metadata": {},
   "outputs": [],
   "source": [
    "success_1 = np.mean(group_1)\n",
    "success_2 = np.mean(group_2)"
   ]
  },
  {
   "cell_type": "code",
   "execution_count": 16,
   "metadata": {},
   "outputs": [
    {
     "name": "stdout",
     "output_type": "stream",
     "text": [
      "Success rate for group 1 0.4666666666666667\n",
      "Success rate for group 2 0.6\n"
     ]
    }
   ],
   "source": [
    "print(f'Success rate for group 1 {success_1}')\n",
    "print(f'Success rate for group 2 {success_2}')"
   ]
  },
  {
   "cell_type": "code",
   "execution_count": 17,
   "metadata": {},
   "outputs": [
    {
     "name": "stdout",
     "output_type": "stream",
     "text": [
      "Mean Measurement 10.16, Standard Deviation 0.2154065922853802\n"
     ]
    }
   ],
   "source": [
    "# Scientific Research\n",
    "\n",
    "m = np.array([10.1, 10.5, 9.9, 10.3, 10.0])\n",
    "\n",
    "mean_measurement = np.mean(m)\n",
    "std_measurement = np.std(m)\n",
    "\n",
    "print(f'Mean Measurement {mean_measurement}, Standard Deviation {std_measurement}')"
   ]
  },
  {
   "cell_type": "code",
   "execution_count": 21,
   "metadata": {},
   "outputs": [
    {
     "name": "stdout",
     "output_type": "stream",
     "text": [
      "[[[255 255 255]\n",
      "  [255 255 255]\n",
      "  [255 255 255]\n",
      "  ...\n",
      "  [255 255 255]\n",
      "  [255 255 255]\n",
      "  [255 255 255]]\n",
      "\n",
      " [[255 255 255]\n",
      "  [255 255 255]\n",
      "  [255 255 255]\n",
      "  ...\n",
      "  [255 255 255]\n",
      "  [255 255 255]\n",
      "  [255 255 255]]\n",
      "\n",
      " [[255 255 255]\n",
      "  [255 255 255]\n",
      "  [255 255 255]\n",
      "  ...\n",
      "  [255 255 255]\n",
      "  [255 255 255]\n",
      "  [255 255 255]]\n",
      "\n",
      " ...\n",
      "\n",
      " [[255 255 255]\n",
      "  [255 255 255]\n",
      "  [255 255 255]\n",
      "  ...\n",
      "  [255 255 255]\n",
      "  [255 255 255]\n",
      "  [255 255 255]]\n",
      "\n",
      " [[255 255 255]\n",
      "  [255 255 255]\n",
      "  [255 255 255]\n",
      "  ...\n",
      "  [255 255 255]\n",
      "  [255 255 255]\n",
      "  [255 255 255]]\n",
      "\n",
      " [[255 255 255]\n",
      "  [255 255 255]\n",
      "  [255 255 255]\n",
      "  ...\n",
      "  [255 255 255]\n",
      "  [255 255 255]\n",
      "  [255 255 255]]]\n"
     ]
    }
   ],
   "source": [
    "# Image Processing\n",
    "# Converting a color image to grayscale using NumPy\n",
    "\n",
    "import matplotlib.pyplot as plt\n",
    "from PIL import Image\n",
    "\n",
    "image = np.array(Image.open('python.jpg'))\n",
    "print(image)"
   ]
  },
  {
   "cell_type": "code",
   "execution_count": null,
   "metadata": {},
   "outputs": [],
   "source": [
    "image.shape"
   ]
  },
  {
   "cell_type": "code",
   "execution_count": null,
   "metadata": {},
   "outputs": [],
   "source": [
    "print(image.ndim)"
   ]
  },
  {
   "cell_type": "code",
   "execution_count": 26,
   "metadata": {},
   "outputs": [
    {
     "data": {
      "image/png": "[encoded data removed]",
      "text/plain": [
       "<Figure size 720x360 with 2 Axes>"
      ]
     },
     "metadata": {
      "needs_background": "light"
     },
     "output_type": "display_data"
    }
   ],
   "source": [
    "#Convert to GrayScale\n",
    "gray_image = np.dot(image[...,:3], [0.2989, 0.5870, 0.1140])\n",
    "\n",
    "# Display the original\n",
    "plt.figure(figsize=(10,5))\n",
    "plt.subplot(1,2,1)\n",
    "plt.imshow(image)\n",
    "plt.title('Original Image')\n",
    "plt.axis('off')\n",
    "\n",
    "# Display the Grayscale Image\n",
    "plt.subplot(1,2,2)\n",
    "plt.imshow(gray_image, cmap='gray')\n",
    "plt.title('GrayScale Image')\n",
    "plt.axis('off')\n",
    "\n",
    "plt.show()"
   ]
  },
  {
   "cell_type": "code",
   "execution_count": null,
   "metadata": {},
   "outputs": [],
   "source": []
  }
 ],
 "metadata": {
  "kernelspec": {
   "display_name": "Python 3.7 - default",
   "language": "python",
   "name": "py37_default"
  },
  "language_info": {
   "codemirror_mode": {
    "name": "ipython",
    "version": 3
   },
   "file_extension": ".py",
   "mimetype": "text/x-python",
   "name": "python",
   "nbconvert_exporter": "python",
   "pygments_lexer": "ipython3",
   "version": "3.7.7"
  }
 },
 "nbformat": 4,
 "nbformat_minor": 4
}

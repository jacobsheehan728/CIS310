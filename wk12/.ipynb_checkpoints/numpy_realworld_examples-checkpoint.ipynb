{
 "cells": [
  {
   "cell_type": "markdown",
   "metadata": {},
   "source": [
    "# Jacob Sheehan\n",
    "## wk12 11/05/2024\n",
    "### Numpy Real World Examples"
   ]
  },
  {
   "cell_type": "code",
   "execution_count": 1,
   "metadata": {},
   "outputs": [
    {
     "data": {
      "text/plain": [
       "array([36.70849991, 56.99566748, 75.18559232, 40.21025551, 73.6675567 ,\n",
       "       67.0854765 , 24.01999626, 32.75081495, 39.44571675,  5.06154471,\n",
       "        1.0020839 , 21.29529857, 89.45937352, 57.35669559, 71.30704522,\n",
       "       67.2412419 , 50.77109491, 84.70892558, 72.10934234, 90.80768049,\n",
       "       31.37826563, 21.87454617, 46.78015744, 52.9145712 , 64.19647236,\n",
       "       93.82966516, 84.11962998, 24.21653282, 19.0054161 , 88.35169877,\n",
       "       95.54253237, 72.78746187, 15.42209501, 66.64533118, 81.19656275,\n",
       "       34.10121467, 95.74726584, 70.22447265, 71.16293151, 40.9003216 ,\n",
       "       32.88252085, 14.00108097, 36.98966098, 64.30971147, 89.50908185,\n",
       "       14.99329048, 88.11148818, 24.31363981, 11.60523491, 67.59431869])"
      ]
     },
     "execution_count": 1,
     "metadata": {},
     "output_type": "execute_result"
    }
   ],
   "source": [
    "# Computing Grades\n",
    "import numpy as np\n",
    "from numpy.random import random\n",
    "\n",
    "scores = random(50) * 101\n",
    "scores"
   ]
  },
  {
   "cell_type": "code",
   "execution_count": 2,
   "metadata": {},
   "outputs": [],
   "source": [
    "# multiply random by 101 for scores between 1 and 100"
   ]
  },
  {
   "cell_type": "code",
   "execution_count": 3,
   "metadata": {},
   "outputs": [
    {
     "data": {
      "text/plain": [
       "array([ 54,  26,  93,  31,   5,  87,  70,  63,  86,  39,  11,  68,  57,\n",
       "        80,  79,  86,  22,  31,  93,  65,   2,  15,  67,  30,  21,  57,\n",
       "        77,  80,  51,  44,  22,  45,  18,  31, 100,  46,   7,  78,  13,\n",
       "        60,  99,  14,  83,  94,  23,  37,   1,  12,  59,  67])"
      ]
     },
     "execution_count": 3,
     "metadata": {},
     "output_type": "execute_result"
    }
   ],
   "source": [
    "scores = np.round(random(50) * 101).astype(int)\n",
    "scores"
   ]
  },
  {
   "cell_type": "code",
   "execution_count": 4,
   "metadata": {},
   "outputs": [
    {
     "data": {
      "text/plain": [
       "49.98"
      ]
     },
     "execution_count": 4,
     "metadata": {},
     "output_type": "execute_result"
    }
   ],
   "source": [
    "np.mean(scores)"
   ]
  },
  {
   "cell_type": "code",
   "execution_count": 5,
   "metadata": {},
   "outputs": [
    {
     "data": {
      "text/plain": [
       "1"
      ]
     },
     "execution_count": 5,
     "metadata": {},
     "output_type": "execute_result"
    }
   ],
   "source": [
    "scores.min()"
   ]
  },
  {
   "cell_type": "code",
   "execution_count": 6,
   "metadata": {},
   "outputs": [
    {
     "data": {
      "text/plain": [
       "100"
      ]
     },
     "execution_count": 6,
     "metadata": {},
     "output_type": "execute_result"
    }
   ],
   "source": [
    "scores.max()"
   ]
  },
  {
   "cell_type": "code",
   "execution_count": 7,
   "metadata": {},
   "outputs": [
    {
     "data": {
      "text/plain": [
       "29.58140632221531"
      ]
     },
     "execution_count": 7,
     "metadata": {},
     "output_type": "execute_result"
    }
   ],
   "source": [
    "np.std(scores)"
   ]
  },
  {
   "cell_type": "code",
   "execution_count": 8,
   "metadata": {},
   "outputs": [
    {
     "data": {
      "text/plain": [
       "array([ 93,  87,  86,  80,  79,  86,  93,  77,  80, 100,  78,  99,  83,\n",
       "        94])"
      ]
     },
     "execution_count": 8,
     "metadata": {},
     "output_type": "execute_result"
    }
   ],
   "source": [
    "scores[scores > 70]"
   ]
  },
  {
   "cell_type": "code",
   "execution_count": 9,
   "metadata": {},
   "outputs": [
    {
     "data": {
      "text/plain": [
       "14"
      ]
     },
     "execution_count": 9,
     "metadata": {},
     "output_type": "execute_result"
    }
   ],
   "source": [
    "len(scores[scores > 70])"
   ]
  },
  {
   "cell_type": "code",
   "execution_count": 10,
   "metadata": {},
   "outputs": [
    {
     "data": {
      "text/plain": [
       "array([ 93,  93,  94,  99, 100])"
      ]
     },
     "execution_count": 10,
     "metadata": {},
     "output_type": "execute_result"
    }
   ],
   "source": [
    "# find n largest scores\n",
    "n = 5\n",
    "scores.sort()\n",
    "scores[-n::]"
   ]
  },
  {
   "cell_type": "code",
   "execution_count": 11,
   "metadata": {},
   "outputs": [
    {
     "name": "stdout",
     "output_type": "stream",
     "text": [
      "slope = 9.999999999999996, and intercept = 39.999999999999986\n"
     ]
    }
   ],
   "source": [
    "# Linear Regression\n",
    "# Y = a + bX\n",
    "X = np.array([1,2,3,4,5,6])\n",
    "Y = np.array([50, 60, 70, 80, 90, 100])\n",
    "\n",
    "\n",
    "slope, intercept = np.polyfit(X,Y,1)\n",
    "\n",
    "print(f'slope = {slope}, and intercept = {intercept}')\n"
   ]
  },
  {
   "cell_type": "code",
   "execution_count": 16,
   "metadata": {},
   "outputs": [
    {
     "name": "stdout",
     "output_type": "stream",
     "text": [
      "Year 1: $10500.00\n",
      "Year 2: $11025.00\n",
      "Year 3: $11576.25\n",
      "Year 4: $12155.06\n",
      "Year 5: $12762.82\n",
      "Year 6: $13400.96\n",
      "Year 7: $14071.00\n",
      "Year 8: $14774.55\n",
      "Year 9: $15513.28\n",
      "Year 10: $16288.95\n"
     ]
    }
   ],
   "source": [
    "# Financial Calculations\n",
    "# calculating the future value of an investment\n",
    "\n",
    "inital_investment = 10000\n",
    "\n",
    "annual_interest_rate = 0.05\n",
    "\n",
    "years = np.arange(1,11)\n",
    "\n",
    "future_value = inital_investment * (1 + annual_interest_rate) ** years\n",
    "for year, value in zip(years, future_value):\n",
    "    print(f'Year {year}: ${value:.2f}')"
   ]
  },
  {
   "cell_type": "code",
   "execution_count": 18,
   "metadata": {},
   "outputs": [
    {
     "name": "stdout",
     "output_type": "stream",
     "text": [
      "0.062000000000000006\n"
     ]
    }
   ],
   "source": [
    "# Portfolio Optimization\n",
    "\n",
    "returns = np.array([0.07, 0.05]) # expected returns for Asset A and B\n",
    "\n",
    "weights = np.array([0.6, 0.4]) # Weights of each asset in the portfolio\n",
    "\n",
    "portfolio_return = np.dot(returns, weights)\n",
    "\n",
    "print(portfolio_return)"
   ]
  },
  {
   "cell_type": "code",
   "execution_count": 20,
   "metadata": {},
   "outputs": [
    {
     "name": "stdout",
     "output_type": "stream",
     "text": [
      "[1 1 1 1 0 1 0 0 1 1 0 0 1 0 0]\n",
      "[0 1 0 1 0 0 0 1 1 1 0 1 1 1 0]\n"
     ]
    }
   ],
   "source": [
    "# Healthcare\n",
    "# the effectiveness of a treatment by comparing patient outcomes\n",
    "\n",
    "sample = [0,1] # 1 = success, 0 = failure\n",
    "\n",
    "group_1 = np.random.choice(sample, 15)\n",
    "print(group_1)\n",
    "\n",
    "group_2 = np.random.choice(sample, 15)\n",
    "print(group_2)"
   ]
  },
  {
   "cell_type": "code",
   "execution_count": null,
   "metadata": {},
   "outputs": [],
   "source": []
  }
 ],
 "metadata": {
  "kernelspec": {
   "display_name": "Python 3.7 - default",
   "language": "python",
   "name": "py37_default"
  },
  "language_info": {
   "codemirror_mode": {
    "name": "ipython",
    "version": 3
   },
   "file_extension": ".py",
   "mimetype": "text/x-python",
   "name": "python",
   "nbconvert_exporter": "python",
   "pygments_lexer": "ipython3",
   "version": "3.7.7"
  }
 },
 "nbformat": 4,
 "nbformat_minor": 4
}

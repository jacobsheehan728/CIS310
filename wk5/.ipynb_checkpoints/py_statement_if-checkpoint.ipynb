{
 "cells": [
  {
   "cell_type": "markdown",
   "metadata": {},
   "source": [
    "# Jacob Sheehan\n",
    "## 09/19/2024\n",
    "### Python If Else Statements"
   ]
  },
  {
   "cell_type": "code",
   "execution_count": 1,
   "metadata": {},
   "outputs": [],
   "source": [
    "test1, test2, = 81,81"
   ]
  },
  {
   "cell_type": "code",
   "execution_count": 4,
   "metadata": {},
   "outputs": [
    {
     "name": "stdout",
     "output_type": "stream",
     "text": [
      "Test1 score:  45\n",
      "Test2 score:  67\n",
      "test2 67 is greater than test1 45\n",
      "You may think to redo test1 45\n"
     ]
    }
   ],
   "source": [
    "test1 = int(input('Test1 score:  '))\n",
    "test2 = int(input('Test2 score:  '))\n",
    "\n",
    "if test1 > test2:\n",
    "    print(f'Test1 {test1} is greater than test2 {test2}')\n",
    "    print(f'You may think to redo test2 {test2}')\n",
    "elif test2 > test1:\n",
    "    print(f'test2 {test2} is greater than test1 {test1}')\n",
    "    print(f'You may think to redo test1 {test1}')\n",
    "else:\n",
    "    print(f'test1 {test1} and test2 {test2} scores are equal!')"
   ]
  },
  {
   "cell_type": "code",
   "execution_count": 5,
   "metadata": {},
   "outputs": [
    {
     "name": "stdout",
     "output_type": "stream",
     "text": [
      "test2 67 is greater than test1 45\n"
     ]
    }
   ],
   "source": [
    "# One-Line if statements\n",
    "if test2 > test1: print(f'test2 {test2} is greater than test1 {test1}')"
   ]
  },
  {
   "cell_type": "code",
   "execution_count": 8,
   "metadata": {},
   "outputs": [
    {
     "name": "stdout",
     "output_type": "stream",
     "text": [
      "310\n"
     ]
    }
   ],
   "source": [
    "if 'c' in 'cis': print('3', end=''); print('1', end=''); print('0', end='')"
   ]
  },
  {
   "cell_type": "code",
   "execution_count": 10,
   "metadata": {},
   "outputs": [
    {
     "name": "stdout",
     "output_type": "stream",
     "text": [
      "test2 67\n"
     ]
    }
   ],
   "source": [
    "# short Hand if ... Else\n",
    "print(f'test1 {test1}') if test1 > test2 else print(f'test2 {test2}')"
   ]
  },
  {
   "cell_type": "code",
   "execution_count": 15,
   "metadata": {},
   "outputs": [
    {
     "name": "stdout",
     "output_type": "stream",
     "text": [
      "Lets head out to the rec center\n"
     ]
    }
   ],
   "source": [
    "raining = True\n",
    "print('Lets head out', 'for a run' if not raining else 'to the rec center')"
   ]
  },
  {
   "cell_type": "code",
   "execution_count": 16,
   "metadata": {},
   "outputs": [
    {
     "name": "stdout",
     "output_type": "stream",
     "text": [
      "minor\n"
     ]
    }
   ],
   "source": [
    "age = 12\n",
    "print('minor' if age < 21 else 'adult')"
   ]
  },
  {
   "cell_type": "code",
   "execution_count": 17,
   "metadata": {},
   "outputs": [
    {
     "name": "stdout",
     "output_type": "stream",
     "text": [
      "Both conditions are evaluated to True!\n"
     ]
    }
   ],
   "source": [
    "#and, or\n",
    "s1, s2, s3 = 89, 75, 92\n",
    "if (s1 > s2) and (s3 > s2):\n",
    "    print('Both conditions are evaluated to True!')"
   ]
  },
  {
   "cell_type": "code",
   "execution_count": 21,
   "metadata": {},
   "outputs": [
    {
     "name": "stdout",
     "output_type": "stream",
     "text": [
      "At least one of the conditions is rvaluated to True!\n"
     ]
    }
   ],
   "source": [
    "#or logical operator\n",
    "if (s1 > s2) or (s3 < s2):\n",
    "    print('At least one of the conditions is rvaluated to True!')"
   ]
  },
  {
   "cell_type": "code",
   "execution_count": 24,
   "metadata": {},
   "outputs": [
    {
     "name": "stdout",
     "output_type": "stream",
     "text": [
      "s1 is above 40\n",
      "s1 is above 60\n",
      "s1 is above 80\n"
     ]
    }
   ],
   "source": [
    "#Nested if statement\n",
    "if s1 > 40:\n",
    "    print('s1 is above 40')\n",
    "    if s1 > 60: \n",
    "        print('s1 is above 60')\n",
    "        if s1 > 80:\n",
    "            print('s1 is above 80')\n",
    "            if s1 > 90:\n",
    "                print('s1 is above 90')\n",
    "            else:\n",
    "                #print('s1 is below 90')\n",
    "                pass"
   ]
  },
  {
   "cell_type": "code",
   "execution_count": 26,
   "metadata": {},
   "outputs": [],
   "source": [
    "# easy way to use built in functions, instead of if statement\n",
    "# if there is a way to avoid loops and if else stuff do it. Use python\n",
    "\n",
    "names = {'Fred': 'Hello Fred', 'Rama': 'Hello Rama', 'Joe': 'Hello Joe', 'Alice': 'Hello Alie'}"
   ]
  },
  {
   "cell_type": "markdown",
   "metadata": {},
   "source": []
  },
  {
   "cell_type": "code",
   "execution_count": null,
   "metadata": {},
   "outputs": [],
   "source": []
  }
 ],
 "metadata": {
  "kernelspec": {
   "display_name": "Python 3.7 - default",
   "language": "python",
   "name": "py37_default"
  },
  "language_info": {
   "codemirror_mode": {
    "name": "ipython",
    "version": 3
   },
   "file_extension": ".py",
   "mimetype": "text/x-python",
   "name": "python",
   "nbconvert_exporter": "python",
   "pygments_lexer": "ipython3",
   "version": "3.7.7"
  }
 },
 "nbformat": 4,
 "nbformat_minor": 4
}

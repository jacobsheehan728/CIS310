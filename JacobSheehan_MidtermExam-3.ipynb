{
 "cells": [
  {
   "cell_type": "markdown",
   "metadata": {},
   "source": [
    "# Instructions:\n",
    "\n",
    "1) Rename this .ipynb file with your first and last name\n",
    "\n",
    "2) Complete the exam info form\n",
    "\n",
    "3) Answer all the questions\n",
    "\n",
    "4) Upload this file into Canvas as your submisison file\n",
    "\n",
    "**Do not upload/push this file into your GitHub account**"
   ]
  },
  {
   "cell_type": "markdown",
   "metadata": {},
   "source": [
    "# Complete the file info form:\n",
    "\n",
    "Your Full Name: Jacob Sheehan\n",
    "\n",
    "Your CSU ID: 835-299-900\n",
    "\n",
    "Date:10/17/2024\n"
   ]
  },
  {
   "cell_type": "markdown",
   "metadata": {},
   "source": [
    "## Q1: \n",
    "(Submit for 3 points) Prompt the user for the number of cups of lemon juice, water, and agave nectar needed to make lemonade. Prompt the user to specify the number of servings the recipe yields. Output the ingredients and serving size.\n",
    "\n",
    "**Sample Input/Output**\n",
    "\n",
    "Enter amount of lemon juice (in cups):\n",
    "\n",
    "2\n",
    "\n",
    "Enter amount of water (in cups):\n",
    "\n",
    "16\n",
    "\n",
    "Enter amount of agave nectar (in cups):\n",
    "\n",
    "2.5\n",
    "\n",
    "How many servings does this make?\n",
    "\n",
    "6\n",
    "\n",
    "Lemonade ingredients - yields 6.00 servings\n",
    "\n",
    "2.00 cup(s) lemon juice\n",
    "\n",
    "16.00 cup(s) water\n",
    "\n",
    "2.50 cup(s) agave nectar\n",
    "\n",
    "**Hint:**\n",
    "\n",
    "- Output each floating-point value with two digits after the decimal point, which can be achieved as follows: print('{:.2f}'.format(your_value))\n",
    "\n",
    "- Use the built input() function to receive input from the user\n",
    "\n",
    "- Use either str.format or f-String method in the print statment to provide the desired output format\n"
   ]
  },
  {
   "cell_type": "code",
   "execution_count": 6,
   "metadata": {},
   "outputs": [
    {
     "name": "stdout",
     "output_type": "stream",
     "text": [
      "Enter amount of lemon juice in cups2\n",
      "Enter amount of water in cups3\n",
      "Enter amount of agave nectar in cups4\n",
      "How many servings does this make?5\n"
     ]
    },
    {
     "ename": "ValueError",
     "evalue": "Unknown format code 'f' for object of type 'str'",
     "output_type": "error",
     "traceback": [
      "\u001b[1;31m---------------------------------------------------------------------------\u001b[0m",
      "\u001b[1;31mValueError\u001b[0m                                Traceback (most recent call last)",
      "\u001b[1;32m<ipython-input-6-0ef134df6890>\u001b[0m in \u001b[0;36m<module>\u001b[1;34m\u001b[0m\n\u001b[0;32m     12\u001b[0m \u001b[0mservings\u001b[0m \u001b[1;33m=\u001b[0m \u001b[0minput\u001b[0m\u001b[1;33m(\u001b[0m\u001b[1;34m\"How many servings does this make?\"\u001b[0m\u001b[1;33m)\u001b[0m\u001b[1;33m\u001b[0m\u001b[1;33m\u001b[0m\u001b[0m\n\u001b[0;32m     13\u001b[0m \u001b[1;33m\u001b[0m\u001b[0m\n\u001b[1;32m---> 14\u001b[1;33m \u001b[0mprint\u001b[0m\u001b[1;33m(\u001b[0m\u001b[1;34mf'Lemonade ingredients - yields {servings:.2f} servings'\u001b[0m\u001b[1;33m)\u001b[0m\u001b[1;33m\u001b[0m\u001b[1;33m\u001b[0m\u001b[0m\n\u001b[0m\u001b[0;32m     15\u001b[0m \u001b[0mprint\u001b[0m\u001b[1;33m(\u001b[0m\u001b[1;34mf'{lemon_juice:.2f}cup(s) lemon juice'\u001b[0m\u001b[1;33m)\u001b[0m\u001b[1;33m\u001b[0m\u001b[1;33m\u001b[0m\u001b[0m\n\u001b[0;32m     16\u001b[0m \u001b[0mprint\u001b[0m\u001b[1;33m(\u001b[0m\u001b[1;34mf'{water:.2f}cup(s) water'\u001b[0m\u001b[1;33m)\u001b[0m\u001b[1;33m\u001b[0m\u001b[1;33m\u001b[0m\u001b[0m\n",
      "\u001b[1;31mValueError\u001b[0m: Unknown format code 'f' for object of type 'str'"
     ]
    }
   ],
   "source": [
    "#Q1 Anaswer - complete the following code\n",
    "\n",
    "# Prompt user to inputs \n",
    "# Finish reading other items into variables, then output the three ingrdients - water_cups, sugar_cups, serving_size\n",
    "   \n",
    "lemon_juice = input(\"Enter amount of lemon juice in cups\")\n",
    "\n",
    "water = input(\"Enter amount of water in cups\")\n",
    "\n",
    "agave_nectar = input(\"Enter amount of agave nectar in cups\")\n",
    "\n",
    "servings = input(\"How many servings does this make?\")\n",
    "\n",
    "print(f'Lemonade ingredients - yields {servings:.2f} servings')\n",
    "print(f'{lemon_juice:.2f}cup(s) lemon juice')\n",
    "print(f'{water:.2f}cup(s) water')\n",
    "print(f'{agave_nectar:.2f}cup(s) agave nectar')\n",
    "\n",
    "\n",
    "\n",
    "   "
   ]
  },
  {
   "cell_type": "markdown",
   "metadata": {},
   "source": [
    "## Q2 \n",
    "\n",
    "(Submit for 3 points) Write a python code that calculates the cost of painting a wall, the cost depends on the number of gallons (and the paint color price) that are needed to cover the wall area.\n",
    "\n",
    "**Sample Input/Output**\n",
    "\n",
    "Enter wall height (feet):\n",
    "\n",
    "12\n",
    "\n",
    "Enter wall width (feet):\n",
    "\n",
    "15\n",
    "\n",
    "Wall area: 180 square feet\n",
    "\n",
    "Paint needed: 0.51 gallons\n",
    "\n",
    "Cans needed: 1 can(s)\n",
    "\n",
    "\n",
    "Choose a color to paint the wall:\n",
    "\n",
    "red\n",
    "\n",
    "Cost of purchasing red paint: $35\n",
    "\n",
    "\n",
    "**Hint:**\n",
    "\n",
    "- Use the built input() function to receive input from the user\n",
    "\n",
    "\n",
    "\n",
    "\n",
    "\n"
   ]
  },
  {
   "cell_type": "code",
   "execution_count": null,
   "metadata": {},
   "outputs": [],
   "source": [
    "#Q2 Answer - Complete the following code \n",
    "\n",
    "import math\n",
    "\n",
    "# Dictionary of paint colors and cost per gallon\n",
    "paint_colors = {\n",
    "   'red': 35,\n",
    "   'blue': 25,\n",
    "   'green': 23\n",
    "}\n",
    "\n",
    "# Prompt user to input wall's width and height, wall_height and wall_width \n",
    "wall_height = input('Enter wall height in feet')\n",
    "wall_width = input('Enter wall width in feet')\n",
    "# Calculate and output wall area - wall_area\n",
    "print(f'The wall height is {wall_height}')\n",
    "print(f'The wall width is {width}')\n",
    "wall_area = wall_height * wall_width\n",
    "print(f'Wall area {wall_area}')\n",
    "# Calculate and output the amount of paint in gallons needed to paint the wall _ gallons_needed\n",
    "#  Assume a gallon of paint covers 350 square feet. Store this value in a variable. Output the amount of paint needed using the %f conversion specifier.\n",
    "gofp = 350\n",
    "\n",
    "wall_gallons_needed:.2f = wall_area / gofp\n",
    "print(f'Paint Needed {wall_gallons_needed}')\n",
    "# Calculate and output the number of 1 gallon cans needed to paint the wall, rounded up to nearest integer - cans_needed\n",
    "# Use a math function of math.ceil() to round up to the nearest gallon. \n",
    "\n",
    "cans_needed = math.ceil(wall_gallons_needed)\n",
    "print(f'Cans needed {cans_needed}')\n",
    "# Calculate and output the total cost of paint can needed depending on color - wall_color\n",
    "# Use a dictionary to associate each paint color with its respective cost. \n",
    "#Red paint costs $35 per gallon can, blue paint costs $25 per gallon can, and green paint costs $23 per gallon can. \n",
    "\n",
    "wall_color = input(\"Choose a color to paint the wall\")\n",
    "cost = cans_needed * paint_colors[wall_color]\n",
    "\n",
    "print(f'The cost of purchasing {wall_color} paint :{cost}')"
   ]
  },
  {
   "cell_type": "markdown",
   "metadata": {},
   "source": [
    "## Q3\n",
    "\n",
    "(Submit for 3 points) Given three integers between 1 and 11, if their sum is less than or equal to 21, return their sum. If their sum exceeds 21 and there's an eleven, reduce the total sum by 10. Finally, if the sum (even after adjustment) exceeds 21, return 'BUST'.\n",
    "\n",
    "blackjack(5,6,7) --> 18\n",
    "\n",
    "blackjack(9,9,9) --> 'BUST'\n",
    "\n",
    "blackjack(9,9,11) --> 19\n",
    "\n",
    "**Hint:**\n",
    "\n",
    "- You can use the sum() function to get the sum of the numbers\n"
   ]
  },
  {
   "cell_type": "code",
   "execution_count": null,
   "metadata": {},
   "outputs": [],
   "source": [
    "#Q3 Answer - Complete the following code\n",
    "def blackjack(a,b,c):\n",
    "    # Complete the code of the function\n",
    "    x = sum(a,b,c)\n",
    "    if x <= 21:\n",
    "        return x\n",
    "    elif x > 21 and a == 11, or b == 1, or c == 11:\n",
    "        x = x - 11\n",
    "    elif x > 21:\n",
    "        return 'Bust'\n",
    "    \n",
    "    \n",
    "# call the function to test with the following data: 5,6,8 or 9,9,9, or 9,9,11,, etc \n",
    "blackjack(5,6,8)\n"
   ]
  },
  {
   "cell_type": "markdown",
   "metadata": {},
   "source": [
    "## Q4\n",
    "\n",
    "(Submit for 3 points) Assume that we have a list of tuples for people information, (First Name, Last Name, Month and Day of birth) as follows:\n",
    "\n",
    "<code> people = [(\"Michele\", \"Vallisneri\", \"July 15\"),\n",
    "          (\"Albert\", \"Einstein\", \"March 14\"),\n",
    "          (\"John\", \"Lennon\", \"October 9\"),\n",
    "          (\"Jocelyn\", \"Bell Burnell\", \"July 15\")] <code/>\n",
    "    \n",
    "\n",
    "\n",
    "Use list comperhension to find out the people who have the same Month and Day of birth, such as:\n",
    "\n",
    "\n",
    "\n",
    "<code>[('Michele', 'Vallisneri', 'July 15'), ('Jocelyn', 'Bell Burnell', 'July 15')]<code/>.\n",
    "    \n",
    "    \n",
    "**Hint:**\n",
    "    \n",
    "- Use the list comprehension expression to answer this question: <code> new_list = [expression for member in iterable (if conditional)] <code/>\n",
    " "
   ]
  },
  {
   "cell_type": "code",
   "execution_count": null,
   "metadata": {},
   "outputs": [],
   "source": [
    "#Q4 Answer - Complete the following code\n",
    "\n",
    "\n",
    "\n",
    "#check your answer"
   ]
  },
  {
   "cell_type": "markdown",
   "metadata": {},
   "source": [
    "# Q5\n",
    "\n",
    "(Submit for 3 points) Assume that we have the following list of dictionaries for the book information:\n",
    "\n",
    "<code> \n",
    "    books = [ {\"Title\":\"Angels and Demons\", \"Author\":\"Dan Brown\", \"Price\":500},\n",
    "              {\"Title\":\"Gone Girl\", \"Author\":\"Gillian Flynn\", \"Price\":730},\n",
    "              {\"Title\":\"The Silent Patient\", \"Author\":\"Alex Michaelidis\", \"Price\":945},\n",
    "              {\"Title\":\"Before I Go To Sleep\", \"Author\":\"S.J Watson\", \"Price\":400} ] <code/>\n",
    "    \n",
    "    \n",
    "Use **lambda** and higher order function **map()** to generate a new list with the book titles that are smaller than 800, word 'None' otherwise,  such as  \n",
    "\n",
    "\n",
    "<code> new_books = ['Angels and Demons', 'Gone Girl', 'None', 'Before I Go To Sleep'] <code/>\n",
    "    \n",
    "\n",
    "**Hint:**\n",
    "\n",
    "- Use the map() function with lambda inside it to create the list of the new_books: <code > map(lambda arguments : expression , books) <code/>"
   ]
  },
  {
   "cell_type": "code",
   "execution_count": null,
   "metadata": {},
   "outputs": [],
   "source": [
    "#Q5 Answer - Complete the following code\n",
    "\n",
    "\n",
    "\n",
    "#check your answer"
   ]
  }
 ],
 "metadata": {
  "kernelspec": {
   "display_name": "Python 3",
   "language": "python",
   "name": "python3"
  },
  "language_info": {
   "codemirror_mode": {
    "name": "ipython",
    "version": 3
   },
   "file_extension": ".py",
   "mimetype": "text/x-python",
   "name": "python",
   "nbconvert_exporter": "python",
   "pygments_lexer": "ipython3",
   "version": "3.7.7"
  }
 },
 "nbformat": 4,
 "nbformat_minor": 2
}
